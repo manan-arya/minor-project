{
 "cells": [
  {
   "cell_type": "code",
   "execution_count": 1,
   "metadata": {},
   "outputs": [],
   "source": [
    "%matplotlib inline"
   ]
  },
  {
   "cell_type": "code",
   "execution_count": 22,
   "metadata": {
    "scrolled": true
   },
   "outputs": [],
   "source": [
    "import numpy as np\n",
    "import json\n",
    "from sklearn.model_selection import StratifiedShuffleSplit\n",
    "#from WordEmbeding.word_embeding_classifier import WordEmebdingClassifier\n",
    "#from InferSent.classifier import InferSentClassifier,XGBoostClassifier\n",
    "from TFIDFVector.tfidf_classifier import TFIDFClassifer\n",
    "import text_summarization_using_spacy as summarizer\n",
    "from SemHash.semhash_classifier import SemHashClassfier\n",
    "import pandas as pd\n",
    "import matplotlib.pyplot as plt\n",
    "import re"
   ]
  },
  {
   "cell_type": "code",
   "execution_count": 3,
   "metadata": {},
   "outputs": [],
   "source": [
    "def cleanhtml(raw_html):\n",
    "    cleanr = re.compile('<.*?>')\n",
    "    cleantext = re.sub(cleanr, '', raw_html)\n",
    "    cleantext = [re.sub(r\"[^a-zA-Z.]+\", ' ', k) for k in cleantext.split(\"\\n\")]\n",
    "    return cleantext"
   ]
  },
  {
   "cell_type": "code",
   "execution_count": 4,
   "metadata": {},
   "outputs": [],
   "source": [
    "nlu_data ='AskUbuntuCorpus.json'"
   ]
  },
  {
   "cell_type": "code",
   "execution_count": 5,
   "metadata": {},
   "outputs": [],
   "source": [
    "temp_data = None\n",
    "with open(nlu_data,'r') as f:\n",
    "    temp_data = json.load(f)"
   ]
  },
  {
   "cell_type": "code",
   "execution_count": null,
   "metadata": {},
   "outputs": [],
   "source": []
  },
  {
   "cell_type": "code",
   "execution_count": 6,
   "metadata": {},
   "outputs": [],
   "source": [
    "texts = []\n",
    "labels = []\n",
    "\n",
    "for s in temp_data['sentences']:\n",
    "    try:\n",
    "        texts.append(s['text'].lower() + s['answer']['text'].lower())\n",
    "    except:\n",
    "        texts.append(s['text'].lower())\n",
    "    labels.append(s['intent'])\n",
    "    "
   ]
  },
  {
   "cell_type": "code",
   "execution_count": 7,
   "metadata": {
    "scrolled": true
   },
   "outputs": [],
   "source": [
    "for i in range(len(texts)):\n",
    "    texts[i] = cleanhtml(texts[i])\n",
    "    texts[i] = ' '.join(texts[i])"
   ]
  },
  {
   "cell_type": "code",
   "execution_count": 8,
   "metadata": {},
   "outputs": [],
   "source": [
    "sss = StratifiedShuffleSplit(n_splits=1,test_size=0.2) "
   ]
  },
  {
   "cell_type": "code",
   "execution_count": 9,
   "metadata": {},
   "outputs": [],
   "source": [
    "train_index, text_index = list(sss.split(texts,labels))[0]"
   ]
  },
  {
   "cell_type": "code",
   "execution_count": 10,
   "metadata": {},
   "outputs": [],
   "source": [
    "train_texts = [texts[index] for index in train_index]\n",
    "train_labels = [labels[index] for index in train_index]\n",
    "test_texts = [texts[index] for index in text_index]\n",
    "test_labels = [labels[index] for index in text_index]"
   ]
  },
  {
   "cell_type": "code",
   "execution_count": 12,
   "metadata": {},
   "outputs": [],
   "source": [
    "for i in range(len(train_texts)):\n",
    "    check =  summarizer.summarize(train_texts[i])\n",
    "    if check and len(check)>10:\n",
    "        train_texts[i] = check"
   ]
  },
  {
   "cell_type": "markdown",
   "metadata": {},
   "source": [
    "## Compare"
   ]
  },
  {
   "cell_type": "code",
   "execution_count": 13,
   "metadata": {},
   "outputs": [],
   "source": [
    "classifiers =[\"SemHashClassfier\"]"
   ]
  },
  {
   "cell_type": "code",
   "execution_count": 14,
   "metadata": {
    "scrolled": true
   },
   "outputs": [
    {
     "name": "stderr",
     "output_type": "stream",
     "text": [
      "/home/manan/anaconda3/lib/python3.7/site-packages/sklearn/model_selection/_search.py:841: DeprecationWarning: The default of the `iid` parameter will change from True to False in version 0.22 and will be removed in 0.24. This will change numeric results when test-set sizes are unequal.\n",
      "  DeprecationWarning)\n"
     ]
    }
   ],
   "source": [
    "result = []\n",
    "for cls_name in classifiers:\n",
    "    cls = globals()[cls_name]()\n",
    "    model,le = cls.train(train_texts,train_labels)\n",
    "    acc = cls.eval(test_texts,test_labels)\n",
    "    #print(cls.predict(test_texts))\n",
    "    result.append([cls_name,acc])\n",
    "\n"
   ]
  },
  {
   "cell_type": "code",
   "execution_count": 15,
   "metadata": {},
   "outputs": [],
   "source": [
    "test_texts = cls.doc2vec(test_texts)"
   ]
  },
  {
   "cell_type": "code",
   "execution_count": 16,
   "metadata": {
    "scrolled": true
   },
   "outputs": [
    {
     "data": {
      "text/plain": [
       "array(['Make Update', 'Software Recommendation', 'Setup Printer',\n",
       "       'Shutdown Computer', 'Software Recommendation',\n",
       "       'Software Recommendation', 'Make Update', 'Make Update',\n",
       "       'Shutdown Computer', 'Software Recommendation', 'Make Update',\n",
       "       'Software Recommendation', 'Software Recommendation',\n",
       "       'Setup Printer', 'Software Recommendation',\n",
       "       'Software Recommendation', 'Software Recommendation',\n",
       "       'Software Recommendation', 'Software Recommendation',\n",
       "       'Software Recommendation', 'Make Update', 'Make Update',\n",
       "       'Make Update', 'Software Recommendation', 'Make Update',\n",
       "       'Software Recommendation', 'Software Recommendation',\n",
       "       'Software Recommendation', 'Software Recommendation',\n",
       "       'Software Recommendation', 'Make Update',\n",
       "       'Software Recommendation', 'Shutdown Computer'], dtype='<U23')"
      ]
     },
     "execution_count": 16,
     "metadata": {},
     "output_type": "execute_result"
    }
   ],
   "source": [
    "ans = model.predict(test_texts)\n",
    "le.inverse_transform(ans)"
   ]
  },
  {
   "cell_type": "code",
   "execution_count": 17,
   "metadata": {},
   "outputs": [
    {
     "data": {
      "text/plain": [
       "sklearn.model_selection._search.GridSearchCV"
      ]
     },
     "execution_count": 17,
     "metadata": {},
     "output_type": "execute_result"
    }
   ],
   "source": [
    "type(model)"
   ]
  },
  {
   "cell_type": "code",
   "execution_count": 18,
   "metadata": {},
   "outputs": [],
   "source": [
    "df = pd.DataFrame(result, columns = ['Name', 'Accuracy']) "
   ]
  },
  {
   "cell_type": "code",
   "execution_count": 19,
   "metadata": {},
   "outputs": [
    {
     "data": {
      "text/html": [
       "<div>\n",
       "<style scoped>\n",
       "    .dataframe tbody tr th:only-of-type {\n",
       "        vertical-align: middle;\n",
       "    }\n",
       "\n",
       "    .dataframe tbody tr th {\n",
       "        vertical-align: top;\n",
       "    }\n",
       "\n",
       "    .dataframe thead th {\n",
       "        text-align: right;\n",
       "    }\n",
       "</style>\n",
       "<table border=\"1\" class=\"dataframe\">\n",
       "  <thead>\n",
       "    <tr style=\"text-align: right;\">\n",
       "      <th></th>\n",
       "      <th>Name</th>\n",
       "      <th>Accuracy</th>\n",
       "    </tr>\n",
       "  </thead>\n",
       "  <tbody>\n",
       "    <tr>\n",
       "      <th>0</th>\n",
       "      <td>SemHashClassfier</td>\n",
       "      <td>0.727273</td>\n",
       "    </tr>\n",
       "  </tbody>\n",
       "</table>\n",
       "</div>"
      ],
      "text/plain": [
       "               Name  Accuracy\n",
       "0  SemHashClassfier  0.727273"
      ]
     },
     "execution_count": 19,
     "metadata": {},
     "output_type": "execute_result"
    }
   ],
   "source": [
    "df"
   ]
  },
  {
   "cell_type": "code",
   "execution_count": 20,
   "metadata": {},
   "outputs": [
    {
     "data": {
      "text/plain": [
       "Text(0.5, 1.0, 'Intent Rec Accuracy')"
      ]
     },
     "execution_count": 20,
     "metadata": {},
     "output_type": "execute_result"
    },
    {
     "data": {
      "image/png": "[encoded data removed]",
      "text/plain": [
       "<Figure size 432x288 with 1 Axes>"
      ]
     },
     "metadata": {
      "needs_background": "light"
     },
     "output_type": "display_data"
    }
   ],
   "source": [
    "fig, ax = plt.subplots()\n",
    "ax.barh(df['Name'], df['Accuracy'], align='center')\n",
    "ax.set_yticklabels(df['Name'])\n",
    "ax.invert_yaxis()  # labels read top-to-bottom\n",
    "ax.set_xlabel('Performance')\n",
    "ax.set_title('Intent Rec Accuracy')"
   ]
  },
  {
   "cell_type": "markdown",
   "metadata": {},
   "source": [
    "## Conclusion"
   ]
  },
  {
   "cell_type": "markdown",
   "metadata": {},
   "source": [
    "We compare several different sentence embeding for intent classification.\n",
    "1. Simple sum of wordembeding, \n",
    "2. Facebook InferSent.\n",
    "3. TF-IDF\n",
    "4. Semhash, https://arxiv.org/abs/1810.07150\n",
    "\n",
    "### Simple sum the word embeding achieve the best accuray in intention classification.\n",
    "This is quiet interesting. Why could simple sum of wording embeding represent the sentence very well?"
   ]
  },
  {
   "cell_type": "code",
   "execution_count": null,
   "metadata": {},
   "outputs": [],
   "source": []
  }
 ],
 "metadata": {
  "kernelspec": {
   "display_name": "Python 3",
   "language": "python",
   "name": "python3"
  },
  "language_info": {
   "codemirror_mode": {
    "name": "ipython",
    "version": 3
   },
   "file_extension": ".py",
   "mimetype": "text/x-python",
   "name": "python",
   "nbconvert_exporter": "python",
   "pygments_lexer": "ipython3",
   "version": "3.7.3"
  }
 },
 "nbformat": 4,
 "nbformat_minor": 2
}
