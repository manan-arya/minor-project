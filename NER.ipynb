{
 "cells": [
  {
   "cell_type": "code",
   "execution_count": 1,
   "metadata": {},
   "outputs": [],
   "source": [
    "import nltk\n",
    "from nltk.tokenize import word_tokenize\n",
    "from nltk.tag import pos_tag\n",
    "import spacy\n",
    "from spacy import displacy\n",
    "from collections import Counter\n",
    "import en_core_web_sm\n"
   ]
  },
  {
   "cell_type": "code",
   "execution_count": 6,
   "metadata": {},
   "outputs": [],
   "source": [
    "def ner(sent):\n",
    "    strng = nltk.word_tokenize(sent)\n",
    "    strng= nltk.pos_tag(strng)\n",
    "    nlp = en_core_web_sm.load()\n",
    "    doc = nlp(sent)\n",
    "    ans = []\n",
    "    allowed = ['NNP']\n",
    "    for i in range(len(strng)):\n",
    "        if strng[i][1] in allowed:\n",
    "            ans.append(strng[i][0])\n",
    "    final =  [X.text for X in doc.ents]\n",
    "    check = []\n",
    "    for i in range(len(final)):\n",
    "        if not final[i].isalpha():\n",
    "            check.append(i)\n",
    "            \n",
    "    #final = list(set(final))\n",
    "    if(len(final)<4):\n",
    "        return final\n",
    "    return final[:4]"
   ]
  },
  {
   "cell_type": "code",
   "execution_count": 8,
   "metadata": {},
   "outputs": [
    {
     "data": {
      "text/plain": [
       "['Ubuntu']"
      ]
     },
     "execution_count": 8,
     "metadata": {},
     "output_type": "execute_result"
    }
   ],
   "source": [
    "ner('What IDEs are available for Ubuntu?')"
   ]
  }
 ],
 "metadata": {
  "kernelspec": {
   "display_name": "Python 3",
   "language": "python",
   "name": "python3"
  },
  "language_info": {
   "codemirror_mode": {
    "name": "ipython",
    "version": 3
   },
   "file_extension": ".py",
   "mimetype": "text/x-python",
   "name": "python",
   "nbconvert_exporter": "python",
   "pygments_lexer": "ipython3",
   "version": "3.7.3"
  }
 },
 "nbformat": 4,
 "nbformat_minor": 2
}
